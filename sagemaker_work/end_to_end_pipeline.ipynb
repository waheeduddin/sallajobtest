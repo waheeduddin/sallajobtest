{
 "cells": [
  {
   "cell_type": "markdown",
   "id": "2ad67864",
   "metadata": {},
   "source": [
    "This script sets up a Sagemaker pipeline that does the following steps:\n",
    "\n",
    "1. Upload training data to s3\n",
    "2. Upload test data to s3\n",
    "3. Adds a preprocessing step in the SageMaker Pipeline. The preprocessor makes use of the code in file \"preprocessing.py\"\n",
    "4. Invokes the default Xgboost algorithm container from sagemaker to train a Xgboost model on pre processed data.\n",
    "5. Adds a step in the pipeline to evaluate the performance of the trained model on test dataset.\n",
    "6. Adds a condition step to check if the performance of the model is within acceptable parameters.\n",
    "7. If the model passes the condition, it is registered in the SageMaker domain for the region.\n",
    "8. Upon passing the condition, trained model is readied for inference and a \"Transformer\" step is also added to the pipeline to make batch prediction possible.\n",
    "\n",
    "Later on, the registered model is deployed from the Sagemaker studio UI and the deployed model in real time inference is invoked with a single datapoint and the model prediction is recorded.\n"
   ]
  },
  {
   "cell_type": "markdown",
   "id": "29dcf65e",
   "metadata": {},
   "source": [
    "##### Error notification:\n",
    "Step 8 in the pipeline, where a batch tranformer endpoint for the model is supposed to be deployed, does not succeed. Following is the reason of failure:\n",
    "  \n",
    "  'FailureReason': \"ClientError: Failed to invoke sagemaker:CreateTransformJob. Error Details: The account-level service limit 'ml.m5.large for transform job usage' is 0 Instances, with current utilization of 0 Instances and a request delta of 1 Instances. Please use AWS Service Quotas to request an increase for this quota. If AWS Service Quotas is not available, contact AWS support to request an increase for this quota.\\nRetry not appropriate on execution of step with PipelineExecutionArn arn:aws:sagemaker:us-west-1:323732946862:pipeline/xgboostpipeline/execution/ht96q5q90w6x and StepId XgboostTransform. No retry policy configured for the exception type SAGEMAKER_RESOURCE_LIMIT.\","
   ]
  },
  {
   "cell_type": "code",
   "execution_count": 2,
   "id": "d531551f",
   "metadata": {},
   "outputs": [
    {
     "name": "stdout",
     "output_type": "stream",
     "text": [
      "sagemaker.config INFO - Not applying SDK defaults from location: /etc/xdg/sagemaker/config.yaml\n",
      "sagemaker.config INFO - Not applying SDK defaults from location: /home/ec2-user/.config/sagemaker/config.yaml\n"
     ]
    }
   ],
   "source": [
    "import boto3\n",
    "import sagemaker\n",
    "import sagemaker.session\n",
    "from sagemaker.workflow.pipeline_context import PipelineSession\n",
    "\n",
    "region = boto3.Session().region_name\n",
    "sagemaker_session = sagemaker.session.Session()\n",
    "role = sagemaker.get_execution_role()\n",
    "default_bucket = sagemaker_session.default_bucket()\n",
    "\n",
    "pipeline_session = PipelineSession()\n",
    "\n",
    "model_package_group_name = f\"SallaJobTestXgboostModel\""
   ]
  },
  {
   "cell_type": "code",
   "execution_count": 3,
   "id": "cfa1b6f7",
   "metadata": {},
   "outputs": [
    {
     "name": "stdout",
     "output_type": "stream",
     "text": [
      "s3://sagemaker-us-west-1-323732946862/dataset/train/financial_fraud_training_set.csv\n"
     ]
    }
   ],
   "source": [
    "\n",
    "local_path = \"./financial_fraud_training_set.csv\"\n",
    "\n",
    "\n",
    "base_uri = f\"s3://{default_bucket}/dataset/train\"\n",
    "input_data_uri = sagemaker.s3.S3Uploader.upload(\n",
    "    local_path=local_path, \n",
    "    desired_s3_uri=base_uri,\n",
    ")\n",
    "print(input_data_uri)"
   ]
  },
  {
   "cell_type": "code",
   "execution_count": 4,
   "id": "d12e6305",
   "metadata": {},
   "outputs": [
    {
     "name": "stdout",
     "output_type": "stream",
     "text": [
      "s3://sagemaker-us-west-1-323732946862/dataset/test/financial_fraud_test_set.csv\n"
     ]
    }
   ],
   "source": [
    "local_path = \"./financial_fraud_test_set.csv\"\n",
    "\n",
    "base_uri = f\"s3://{default_bucket}/dataset/test\"\n",
    "test_data_uri = sagemaker.s3.S3Uploader.upload(\n",
    "    local_path=local_path, \n",
    "    desired_s3_uri=base_uri,\n",
    ")\n",
    "print(test_data_uri)"
   ]
  },
  {
   "cell_type": "code",
   "execution_count": 5,
   "id": "be1fa9c8",
   "metadata": {},
   "outputs": [],
   "source": [
    "from sagemaker.workflow.parameters import (\n",
    "    ParameterInteger,\n",
    "    ParameterString,\n",
    ")\n",
    "\n",
    "region = ParameterString(\n",
    "    name='Region',\n",
    "    default_value='us-west-1'\n",
    ")\n",
    "\n",
    "# processing_instance_count = ParameterInteger(\n",
    "#     name='ProcessingInstanceCount',\n",
    "#     default_value=1\n",
    "# )\n",
    "\n",
    "# processing_instance_type = ParameterString(\n",
    "#     name='ProcessingInstanceType',\n",
    "#     default_value='ml.t2.medium'\n",
    "# )\n",
    "\n",
    "# training_instance_type = ParameterString(\n",
    "#     name='TrainingInstanceType',\n",
    "#     default_value='ml.m4.xlarge'\n",
    "# )\n",
    "\n",
    "# training_instance_count = ParameterInteger(\n",
    "#     name='TrainingInstanceCount',\n",
    "#     default_value=1\n",
    "# )\n",
    "\n",
    "\n",
    "model_approval_status = ParameterString(\n",
    "    name='ModelApprovalStatus',\n",
    "    default_value='PendingManualApproval'\n",
    ")\n",
    "\n",
    "input_data = ParameterString(\n",
    "    name=\"InputData\",\n",
    "    default_value=input_data_uri,\n",
    ")\n",
    "test_data = ParameterString(\n",
    "    name=\"TestData\",\n",
    "    default_value=test_data_uri,\n",
    ")\n"
   ]
  },
  {
   "cell_type": "code",
   "execution_count": 6,
   "id": "4af42a59",
   "metadata": {},
   "outputs": [],
   "source": [
    "from sagemaker.sklearn.processing import SKLearnProcessor\n",
    "sklearn_processor = SKLearnProcessor(\n",
    "    framework_version='1.0-1',#'1.2-1',\n",
    "    role=role,\n",
    "    instance_type='ml.t3.medium',#processing_instance_type,\n",
    "    instance_count=1)#processing_instance_count)"
   ]
  },
  {
   "cell_type": "code",
   "execution_count": 7,
   "id": "18c32180",
   "metadata": {},
   "outputs": [],
   "source": [
    "from sagemaker.processing import ProcessingInput, ProcessingOutput\n",
    "from sagemaker.workflow.steps import ProcessingStep\n",
    "\n",
    "step_process = ProcessingStep(\n",
    "    name='process-financial-fraud-data',\n",
    "    processor=sklearn_processor,\n",
    "    inputs=[\n",
    "      ProcessingInput(source=input_data, destination=\"/opt/ml/processing/input\"),  \n",
    "    ],\n",
    "    outputs=[\n",
    "        ProcessingOutput(\n",
    "                output_name='min_max_scalar',\n",
    "                source='/opt/ml/processing/output/scaler'),#/min_max_scalar.gz\n",
    "        ProcessingOutput(\n",
    "                output_name='pre_processed_train_data',\n",
    "                source='/opt/ml/processing/output/processed_data/train'),\n",
    "        ProcessingOutput(\n",
    "                output_name='pre_processed_val_data',\n",
    "                source='/opt/ml/processing/output/processed_data/val'),\n",
    "    ],\n",
    "    code='./preprocessing.py',\n",
    "    job_arguments=[\n",
    "               '--filename', 'financial_fraud_training_set.csv'\n",
    "    ]\n",
    ")"
   ]
  },
  {
   "cell_type": "code",
   "execution_count": null,
   "id": "0a0d9c1f",
   "metadata": {},
   "outputs": [],
   "source": [
    "## The class imbalnace is noted so that the value of the hyperparameter \"scale_pos_weight\" could be derived from the ratio of \n",
    "# number of negative class to number of positive class instances.\n",
    "import pandas as pd\n",
    "train_df = pd.read_csv(\"./financial_fraud_training_set.csv\")\n",
    "train_df['Class'].value_counts()\n",
    "\n",
    "## output:\n",
    "# Class\n",
    "# 0    16900\n",
    "# 1     2129\n",
    "# Name: count, dtype: int64"
   ]
  },
  {
   "cell_type": "code",
   "execution_count": 9,
   "id": "95ea0052",
   "metadata": {},
   "outputs": [
    {
     "name": "stderr",
     "output_type": "stream",
     "text": [
      "The input argument region of function (sagemaker.image_uris.retrieve) is a pipeline variable (<class 'sagemaker.workflow.parameters.ParameterString'>), which is interpreted in pipeline execution time only. As the function needs to evaluate the argument value in SDK compile time, the default_value of this Parameter object will be used to override it. Please make sure the default_value is valid.\n"
     ]
    }
   ],
   "source": [
    "from sagemaker.estimator import Estimator\n",
    "\n",
    "model_path = f\"s3://{default_bucket}/model_artifacts/\"\n",
    "image_uri = sagemaker.image_uris.retrieve(\n",
    "    framework=\"xgboost\",\n",
    "    region=region,\n",
    "    version=\"1.0-1\",\n",
    "    py_version=\"py3\",\n",
    "    instance_type=\"ml.m4.xlarge\"\n",
    ")\n",
    "xgb_train = Estimator(\n",
    "    image_uri=image_uri,\n",
    "    instance_type=\"ml.m4.xlarge\",\n",
    "    instance_count=1,\n",
    "    output_path=model_path,\n",
    "    sagemaker_session=pipeline_session,\n",
    "    role=role,\n",
    ")\n",
    "xgb_train.set_hyperparameters(\n",
    "    objective=\"binary:logistic\",\n",
    "    learning_rate=0.1,\n",
    "    max_depth=5,\n",
    "    eta=0.2,\n",
    "    gamma=0,\n",
    "    alpha=0,\n",
    "    scale_pos_weight=16900/2129,\n",
    "    min_child_weight=1,\n",
    "#     n_estimators=300,\n",
    "    num_round=50,\n",
    "    subsample=0.7,\n",
    "    eval_metric='auc'\n",
    ")"
   ]
  },
  {
   "cell_type": "code",
   "execution_count": 10,
   "id": "c50c3c5e",
   "metadata": {},
   "outputs": [
    {
     "name": "stderr",
     "output_type": "stream",
     "text": [
      "/home/ec2-user/anaconda3/envs/python3/lib/python3.10/site-packages/sagemaker/workflow/pipeline_context.py:332: UserWarning: Running within a PipelineSession, there will be No Wait, No Logs, and No Job being started.\n",
      "  warnings.warn(\n"
     ]
    }
   ],
   "source": [
    "from sagemaker.inputs import TrainingInput\n",
    "from sagemaker.workflow.steps import TrainingStep\n",
    "train_args = xgb_train.fit(\n",
    "    inputs={\n",
    "        \"train\": TrainingInput(\n",
    "            s3_data=step_process.properties.ProcessingOutputConfig.Outputs[\n",
    "                \"pre_processed_train_data\"\n",
    "            ].S3Output.S3Uri,\n",
    "            content_type=\"text/csv\"\n",
    "        ),\n",
    "        \"validation\": TrainingInput(\n",
    "            s3_data=step_process.properties.ProcessingOutputConfig.Outputs[\n",
    "                \"pre_processed_val_data\"\n",
    "            ].S3Output.S3Uri,\n",
    "            content_type=\"text/csv\"\n",
    "        ),\n",
    "    },\n",
    ")\n",
    "\n",
    "step_train = TrainingStep(\n",
    "    name=\"xgboost_train\",\n",
    "    step_args = train_args\n",
    ")"
   ]
  },
  {
   "cell_type": "code",
   "execution_count": 11,
   "id": "e6ec033c",
   "metadata": {},
   "outputs": [],
   "source": [
    "from sagemaker.processing import ScriptProcessor\n",
    "\n",
    "\n",
    "script_eval = ScriptProcessor(\n",
    "    image_uri=image_uri,\n",
    "    command=[\"python3\"],\n",
    "    instance_type=\"ml.t3.medium\",\n",
    "    instance_count=1,\n",
    "    base_job_name=\"xgboost_eval\",\n",
    "    sagemaker_session=pipeline_session,\n",
    "    role=role,\n",
    ")"
   ]
  },
  {
   "cell_type": "code",
   "execution_count": 12,
   "id": "328f8235",
   "metadata": {},
   "outputs": [],
   "source": [
    "from sagemaker.workflow.properties import PropertyFile\n",
    "\n",
    "\n",
    "evaluation_report = PropertyFile(\n",
    "    name=\"EvaluationReport\",\n",
    "    output_name=\"evaluation\",\n",
    "    path=\"evaluation.json\"\n",
    ")\n",
    "\n",
    "eval_args = script_eval.run(\n",
    "        inputs=[\n",
    "        ProcessingInput(\n",
    "            source=step_train.properties.ModelArtifacts.S3ModelArtifacts,\n",
    "            destination=\"/opt/ml/processing/model\"\n",
    "        ),\n",
    "        ProcessingInput(\n",
    "            source=step_process.properties.ProcessingOutputConfig.Outputs[\n",
    "                \"min_max_scalar\"\n",
    "            ].S3Output.S3Uri,\n",
    "            destination=\"/opt/ml/processing/input/scaler\"\n",
    "        ),\n",
    "      ProcessingInput(source=test_data, destination=\"/opt/ml/processing/input/test\"),  \n",
    "    ],\n",
    "    outputs=[\n",
    "        ProcessingOutput(output_name=\"evaluation\", source=\"/opt/ml/processing/evaluation\"),\n",
    "    ],\n",
    "    code=\"evaluation.py\",\n",
    ")\n",
    "\n",
    "step_eval = ProcessingStep(\n",
    "    name=\"xgboost_eval_step\",\n",
    "    step_args=eval_args,\n",
    "    property_files=[evaluation_report],\n",
    ")"
   ]
  },
  {
   "cell_type": "code",
   "execution_count": 13,
   "id": "e4cb9aed",
   "metadata": {},
   "outputs": [],
   "source": [
    "from sagemaker.model import Model\n",
    "\n",
    "\n",
    "model = Model(\n",
    "    image_uri=image_uri,\n",
    "    model_data=step_train.properties.ModelArtifacts.S3ModelArtifacts,\n",
    "    sagemaker_session=pipeline_session,\n",
    "    role=role,\n",
    ")\n",
    "\n",
    "from sagemaker.inputs import CreateModelInput\n",
    "\n",
    "\n",
    "inputs = CreateModelInput(\n",
    "    instance_type=\"ml.m5.large\",\n",
    "    accelerator_type=\"ml.eia1.medium\",\n",
    ")\n",
    "\n",
    "from sagemaker.workflow.steps import CreateModelStep\n",
    "\n",
    "\n",
    "step_create_model = CreateModelStep(\n",
    "    name=\"XgboostCreateModel\",\n",
    "    model=model,\n",
    "    inputs=inputs,\n",
    ")"
   ]
  },
  {
   "cell_type": "code",
   "execution_count": 14,
   "id": "c6093ef4",
   "metadata": {},
   "outputs": [],
   "source": [
    "from sagemaker.transformer import Transformer\n",
    "\n",
    "\n",
    "transformer = Transformer(\n",
    "    model_name=step_create_model.properties.ModelName,\n",
    "    instance_type=\"ml.m5.large\",\n",
    "    instance_count=1,\n",
    "    output_path=f\"s3://{default_bucket}/XgboostTransform\"\n",
    ")\n",
    "\n",
    "from sagemaker.inputs import TransformInput\n",
    "from sagemaker.workflow.steps import TransformStep\n",
    "\n",
    "\n",
    "step_transform = TransformStep(\n",
    "    name=\"XgboostTransform\",\n",
    "    transformer=transformer,\n",
    "    inputs=TransformInput(data=test_data)\n",
    ")"
   ]
  },
  {
   "cell_type": "code",
   "execution_count": 15,
   "id": "bcfa0707",
   "metadata": {},
   "outputs": [
    {
     "name": "stderr",
     "output_type": "stream",
     "text": [
      "WARNING:sagemaker.workflow.utilities:Popping out 'ProcessingJobName' from the pipeline definition by default since it will be overridden at pipeline execution time. Please utilize the PipelineDefinitionConfig to persist this field in the pipeline definition if desired.\n"
     ]
    }
   ],
   "source": [
    "from sagemaker.model_metrics import MetricsSource, ModelMetrics \n",
    "from sagemaker.workflow.step_collections import RegisterModel\n",
    "\n",
    "\n",
    "model_metrics = ModelMetrics(\n",
    "    model_statistics=MetricsSource(\n",
    "        s3_uri=\"{}/evaluation.json\".format(\n",
    "            step_eval.arguments[\"ProcessingOutputConfig\"][\"Outputs\"][0][\"S3Output\"][\"S3Uri\"]\n",
    "        ),\n",
    "        content_type=\"application/json\"\n",
    "    )\n",
    ")\n",
    "step_register = RegisterModel(\n",
    "    name=\"XgboostRegisterModel\",\n",
    "    estimator=xgb_train,\n",
    "    model_data=step_train.properties.ModelArtifacts.S3ModelArtifacts,\n",
    "    content_types=[\"text/csv\"],\n",
    "    response_types=[\"text/csv\"],\n",
    "    inference_instances=[\"ml.t2.medium\",\"ml.m5.large\"],\n",
    "    transform_instances=[\"ml.m5.large\"],\n",
    "    model_package_group_name=model_package_group_name,\n",
    "    approval_status=model_approval_status,\n",
    "    model_metrics=model_metrics\n",
    ")"
   ]
  },
  {
   "cell_type": "code",
   "execution_count": 16,
   "id": "c4c9973e",
   "metadata": {},
   "outputs": [],
   "source": [
    "from sagemaker.workflow.conditions import ConditionGreaterThan\n",
    "from sagemaker.workflow.condition_step import ConditionStep\n",
    "from sagemaker.workflow.functions import JsonGet\n",
    "\n",
    "\n",
    "cond_roc_auc_gte = ConditionGreaterThan(\n",
    "    left=JsonGet(\n",
    "        step_name=step_eval.name,\n",
    "        property_file=evaluation_report,\n",
    "        json_path=\"classification_metrics.roc_auc.value\"\n",
    "    ),\n",
    "    right=0.2\n",
    ")\n",
    "\n",
    "step_cond = ConditionStep(\n",
    "    name=\"XgboostModelDeploymetnCondition\",\n",
    "    conditions=[cond_roc_auc_gte],\n",
    "    if_steps=[step_register, step_create_model, step_transform],\n",
    "    else_steps=[], \n",
    ")"
   ]
  },
  {
   "cell_type": "code",
   "execution_count": 17,
   "id": "14b818fd",
   "metadata": {},
   "outputs": [],
   "source": [
    "from sagemaker.workflow.pipeline import Pipeline\n",
    "\n",
    "\n",
    "pipeline_name = f\"XgboostPipeline\"\n",
    "pipeline = Pipeline(\n",
    "    name=pipeline_name,\n",
    "    parameters=[\n",
    "        model_approval_status,\n",
    "        input_data,\n",
    "        test_data,\n",
    "    ],\n",
    "    steps=[step_process, step_train, step_eval, step_cond],\n",
    ")"
   ]
  },
  {
   "cell_type": "code",
   "execution_count": 18,
   "id": "7fb55bf4",
   "metadata": {},
   "outputs": [
    {
     "name": "stderr",
     "output_type": "stream",
     "text": [
      "WARNING:sagemaker.workflow.utilities:Popping out 'ProcessingJobName' from the pipeline definition by default since it will be overridden at pipeline execution time. Please utilize the PipelineDefinitionConfig to persist this field in the pipeline definition if desired.\n",
      "WARNING:sagemaker.workflow.utilities:Popping out 'TrainingJobName' from the pipeline definition by default since it will be overridden at pipeline execution time. Please utilize the PipelineDefinitionConfig to persist this field in the pipeline definition if desired.\n",
      "WARNING:sagemaker.workflow.utilities:Popping out 'ProcessingJobName' from the pipeline definition by default since it will be overridden at pipeline execution time. Please utilize the PipelineDefinitionConfig to persist this field in the pipeline definition if desired.\n",
      "WARNING:sagemaker.estimator:No finished training job found associated with this estimator. Please make sure this estimator is only used for building workflow config\n",
      "WARNING:sagemaker.workflow._utils:Popping out 'CertifyForMarketplace' from the pipeline definition since it will be overridden in pipeline execution time.\n",
      "WARNING:sagemaker.workflow.utilities:Popping out 'ModelPackageName' from the pipeline definition by default since it will be overridden at pipeline execution time. Please utilize the PipelineDefinitionConfig to persist this field in the pipeline definition if desired.\n",
      "WARNING:sagemaker.workflow.utilities:Popping out 'ModelName' from the pipeline definition by default since it will be overridden at pipeline execution time. Please utilize the PipelineDefinitionConfig to persist this field in the pipeline definition if desired.\n",
      "WARNING:sagemaker.workflow.utilities:Popping out 'TransformJobName' from the pipeline definition by default since it will be overridden at pipeline execution time. Please utilize the PipelineDefinitionConfig to persist this field in the pipeline definition if desired.\n"
     ]
    },
    {
     "data": {
      "text/plain": [
       "{'Version': '2020-12-01',\n",
       " 'Metadata': {},\n",
       " 'Parameters': [{'Name': 'ModelApprovalStatus',\n",
       "   'Type': 'String',\n",
       "   'DefaultValue': 'PendingManualApproval'},\n",
       "  {'Name': 'InputData',\n",
       "   'Type': 'String',\n",
       "   'DefaultValue': 's3://sagemaker-us-west-1-323732946862/dataset/train/financial_fraud_training_set.csv'},\n",
       "  {'Name': 'TestData',\n",
       "   'Type': 'String',\n",
       "   'DefaultValue': 's3://sagemaker-us-west-1-323732946862/dataset/test/financial_fraud_test_set.csv'}],\n",
       " 'PipelineExperimentConfig': {'ExperimentName': {'Get': 'Execution.PipelineName'},\n",
       "  'TrialName': {'Get': 'Execution.PipelineExecutionId'}},\n",
       " 'Steps': [{'Name': 'process-financial-fraud-data',\n",
       "   'Type': 'Processing',\n",
       "   'Arguments': {'ProcessingResources': {'ClusterConfig': {'InstanceType': 'ml.t3.medium',\n",
       "      'InstanceCount': 1,\n",
       "      'VolumeSizeInGB': 30}},\n",
       "    'AppSpecification': {'ImageUri': '746614075791.dkr.ecr.us-west-1.amazonaws.com/sagemaker-scikit-learn:1.0-1-cpu-py3',\n",
       "     'ContainerArguments': ['--filename', 'financial_fraud_training_set.csv'],\n",
       "     'ContainerEntrypoint': ['python3',\n",
       "      '/opt/ml/processing/input/code/preprocessing.py']},\n",
       "    'RoleArn': 'arn:aws:iam::323732946862:role/service-role/AmazonSageMaker-ExecutionRole-20241019T191278',\n",
       "    'ProcessingInputs': [{'InputName': 'input-1',\n",
       "      'AppManaged': False,\n",
       "      'S3Input': {'S3Uri': {'Get': 'Parameters.InputData'},\n",
       "       'LocalPath': '/opt/ml/processing/input',\n",
       "       'S3DataType': 'S3Prefix',\n",
       "       'S3InputMode': 'File',\n",
       "       'S3DataDistributionType': 'FullyReplicated',\n",
       "       'S3CompressionType': 'None'}},\n",
       "     {'InputName': 'code',\n",
       "      'AppManaged': False,\n",
       "      'S3Input': {'S3Uri': 's3://sagemaker-us-west-1-323732946862/process-financial-fraud-data-c4dad4e14ba2ab58868e4c49c94a82d5/input/code/preprocessing.py',\n",
       "       'LocalPath': '/opt/ml/processing/input/code',\n",
       "       'S3DataType': 'S3Prefix',\n",
       "       'S3InputMode': 'File',\n",
       "       'S3DataDistributionType': 'FullyReplicated',\n",
       "       'S3CompressionType': 'None'}}],\n",
       "    'ProcessingOutputConfig': {'Outputs': [{'OutputName': 'min_max_scalar',\n",
       "       'AppManaged': False,\n",
       "       'S3Output': {'S3Uri': {'Std:Join': {'On': '/',\n",
       "          'Values': ['s3:/',\n",
       "           'sagemaker-us-west-1-323732946862',\n",
       "           'XgboostPipeline',\n",
       "           {'Get': 'Execution.PipelineExecutionId'},\n",
       "           'process-financial-fraud-data',\n",
       "           'output',\n",
       "           'min_max_scalar']}},\n",
       "        'LocalPath': '/opt/ml/processing/output/scaler',\n",
       "        'S3UploadMode': 'EndOfJob'}},\n",
       "      {'OutputName': 'pre_processed_train_data',\n",
       "       'AppManaged': False,\n",
       "       'S3Output': {'S3Uri': {'Std:Join': {'On': '/',\n",
       "          'Values': ['s3:/',\n",
       "           'sagemaker-us-west-1-323732946862',\n",
       "           'XgboostPipeline',\n",
       "           {'Get': 'Execution.PipelineExecutionId'},\n",
       "           'process-financial-fraud-data',\n",
       "           'output',\n",
       "           'pre_processed_train_data']}},\n",
       "        'LocalPath': '/opt/ml/processing/output/processed_data/train',\n",
       "        'S3UploadMode': 'EndOfJob'}},\n",
       "      {'OutputName': 'pre_processed_val_data',\n",
       "       'AppManaged': False,\n",
       "       'S3Output': {'S3Uri': {'Std:Join': {'On': '/',\n",
       "          'Values': ['s3:/',\n",
       "           'sagemaker-us-west-1-323732946862',\n",
       "           'XgboostPipeline',\n",
       "           {'Get': 'Execution.PipelineExecutionId'},\n",
       "           'process-financial-fraud-data',\n",
       "           'output',\n",
       "           'pre_processed_val_data']}},\n",
       "        'LocalPath': '/opt/ml/processing/output/processed_data/val',\n",
       "        'S3UploadMode': 'EndOfJob'}}]}}},\n",
       "  {'Name': 'xgboost_train',\n",
       "   'Type': 'Training',\n",
       "   'Arguments': {'AlgorithmSpecification': {'TrainingInputMode': 'File',\n",
       "     'TrainingImage': '746614075791.dkr.ecr.us-west-1.amazonaws.com/sagemaker-xgboost:1.0-1-cpu-py3'},\n",
       "    'OutputDataConfig': {'S3OutputPath': 's3://sagemaker-us-west-1-323732946862/model_artifacts/'},\n",
       "    'StoppingCondition': {'MaxRuntimeInSeconds': 86400},\n",
       "    'ResourceConfig': {'VolumeSizeInGB': 30,\n",
       "     'InstanceCount': 1,\n",
       "     'InstanceType': 'ml.m4.xlarge'},\n",
       "    'RoleArn': 'arn:aws:iam::323732946862:role/service-role/AmazonSageMaker-ExecutionRole-20241019T191278',\n",
       "    'InputDataConfig': [{'DataSource': {'S3DataSource': {'S3DataType': 'S3Prefix',\n",
       "        'S3Uri': {'Get': \"Steps.process-financial-fraud-data.ProcessingOutputConfig.Outputs['pre_processed_train_data'].S3Output.S3Uri\"},\n",
       "        'S3DataDistributionType': 'FullyReplicated'}},\n",
       "      'ContentType': 'text/csv',\n",
       "      'ChannelName': 'train'},\n",
       "     {'DataSource': {'S3DataSource': {'S3DataType': 'S3Prefix',\n",
       "        'S3Uri': {'Get': \"Steps.process-financial-fraud-data.ProcessingOutputConfig.Outputs['pre_processed_val_data'].S3Output.S3Uri\"},\n",
       "        'S3DataDistributionType': 'FullyReplicated'}},\n",
       "      'ContentType': 'text/csv',\n",
       "      'ChannelName': 'validation'}],\n",
       "    'HyperParameters': {'objective': 'binary:logistic',\n",
       "     'learning_rate': '0.1',\n",
       "     'max_depth': '5',\n",
       "     'eta': '0.2',\n",
       "     'gamma': '0',\n",
       "     'alpha': '0',\n",
       "     'scale_pos_weight': '7.937999060591827',\n",
       "     'min_child_weight': '1',\n",
       "     'num_round': '50',\n",
       "     'subsample': '0.7',\n",
       "     'eval_metric': 'auc'},\n",
       "    'DebugHookConfig': {'S3OutputPath': 's3://sagemaker-us-west-1-323732946862/model_artifacts/',\n",
       "     'CollectionConfigurations': []},\n",
       "    'ProfilerConfig': {'S3OutputPath': 's3://sagemaker-us-west-1-323732946862/model_artifacts/',\n",
       "     'DisableProfiler': False}}},\n",
       "  {'Name': 'xgboost_eval_step',\n",
       "   'Type': 'Processing',\n",
       "   'Arguments': {'ProcessingResources': {'ClusterConfig': {'InstanceType': 'ml.t3.medium',\n",
       "      'InstanceCount': 1,\n",
       "      'VolumeSizeInGB': 30}},\n",
       "    'AppSpecification': {'ImageUri': '746614075791.dkr.ecr.us-west-1.amazonaws.com/sagemaker-xgboost:1.0-1-cpu-py3',\n",
       "     'ContainerEntrypoint': ['python3',\n",
       "      '/opt/ml/processing/input/code/evaluation.py']},\n",
       "    'RoleArn': 'arn:aws:iam::323732946862:role/service-role/AmazonSageMaker-ExecutionRole-20241019T191278',\n",
       "    'ProcessingInputs': [{'InputName': 'input-1',\n",
       "      'AppManaged': False,\n",
       "      'S3Input': {'S3Uri': {'Get': 'Steps.xgboost_train.ModelArtifacts.S3ModelArtifacts'},\n",
       "       'LocalPath': '/opt/ml/processing/model',\n",
       "       'S3DataType': 'S3Prefix',\n",
       "       'S3InputMode': 'File',\n",
       "       'S3DataDistributionType': 'FullyReplicated',\n",
       "       'S3CompressionType': 'None'}},\n",
       "     {'InputName': 'input-2',\n",
       "      'AppManaged': False,\n",
       "      'S3Input': {'S3Uri': {'Get': \"Steps.process-financial-fraud-data.ProcessingOutputConfig.Outputs['min_max_scalar'].S3Output.S3Uri\"},\n",
       "       'LocalPath': '/opt/ml/processing/input/scaler',\n",
       "       'S3DataType': 'S3Prefix',\n",
       "       'S3InputMode': 'File',\n",
       "       'S3DataDistributionType': 'FullyReplicated',\n",
       "       'S3CompressionType': 'None'}},\n",
       "     {'InputName': 'input-3',\n",
       "      'AppManaged': False,\n",
       "      'S3Input': {'S3Uri': {'Get': 'Parameters.TestData'},\n",
       "       'LocalPath': '/opt/ml/processing/input/test',\n",
       "       'S3DataType': 'S3Prefix',\n",
       "       'S3InputMode': 'File',\n",
       "       'S3DataDistributionType': 'FullyReplicated',\n",
       "       'S3CompressionType': 'None'}},\n",
       "     {'InputName': 'code',\n",
       "      'AppManaged': False,\n",
       "      'S3Input': {'S3Uri': 's3://sagemaker-us-west-1-323732946862/XgboostPipeline/code/8d210dd8f12def916e31d6109faefd2c/evaluation.py',\n",
       "       'LocalPath': '/opt/ml/processing/input/code',\n",
       "       'S3DataType': 'S3Prefix',\n",
       "       'S3InputMode': 'File',\n",
       "       'S3DataDistributionType': 'FullyReplicated',\n",
       "       'S3CompressionType': 'None'}}],\n",
       "    'ProcessingOutputConfig': {'Outputs': [{'OutputName': 'evaluation',\n",
       "       'AppManaged': False,\n",
       "       'S3Output': {'S3Uri': 's3://sagemaker-us-west-1-323732946862/xgboost_eval-2024-10-20-01-04-49-623/output/evaluation',\n",
       "        'LocalPath': '/opt/ml/processing/evaluation',\n",
       "        'S3UploadMode': 'EndOfJob'}}]}},\n",
       "   'PropertyFiles': [{'PropertyFileName': 'EvaluationReport',\n",
       "     'OutputName': 'evaluation',\n",
       "     'FilePath': 'evaluation.json'}]},\n",
       "  {'Name': 'XgboostModelDeploymetnCondition',\n",
       "   'Type': 'Condition',\n",
       "   'Arguments': {'Conditions': [{'Type': 'GreaterThan',\n",
       "      'LeftValue': {'Std:JsonGet': {'PropertyFile': {'Get': 'Steps.xgboost_eval_step.PropertyFiles.EvaluationReport'},\n",
       "        'Path': 'classification_metrics.roc_auc.value'}},\n",
       "      'RightValue': 0.2}],\n",
       "    'IfSteps': [{'Name': 'XgboostRegisterModel-RegisterModel',\n",
       "      'Type': 'RegisterModel',\n",
       "      'Arguments': {'ModelPackageGroupName': 'SallaJobTestXgboostModel',\n",
       "       'ModelMetrics': {'ModelQuality': {'Statistics': {'ContentType': 'application/json',\n",
       "          'S3Uri': 's3://sagemaker-us-west-1-323732946862/xgboost_eval-2024-10-20-01-04-49-623/output/evaluation/evaluation.json'}},\n",
       "        'Bias': {},\n",
       "        'Explainability': {}},\n",
       "       'InferenceSpecification': {'Containers': [{'Image': '746614075791.dkr.ecr.us-west-1.amazonaws.com/sagemaker-xgboost:1.0-1-cpu-py3',\n",
       "          'ModelDataUrl': {'Get': 'Steps.xgboost_train.ModelArtifacts.S3ModelArtifacts'}}],\n",
       "        'SupportedContentTypes': ['text/csv'],\n",
       "        'SupportedResponseMIMETypes': ['text/csv'],\n",
       "        'SupportedRealtimeInferenceInstanceTypes': ['ml.t2.medium',\n",
       "         'ml.m5.large'],\n",
       "        'SupportedTransformInstanceTypes': ['ml.m5.large']},\n",
       "       'ModelApprovalStatus': {'Get': 'Parameters.ModelApprovalStatus'},\n",
       "       'SkipModelValidation': 'None'}},\n",
       "     {'Name': 'XgboostCreateModel',\n",
       "      'Type': 'Model',\n",
       "      'Arguments': {'ExecutionRoleArn': 'arn:aws:iam::323732946862:role/service-role/AmazonSageMaker-ExecutionRole-20241019T191278',\n",
       "       'PrimaryContainer': {'Image': '746614075791.dkr.ecr.us-west-1.amazonaws.com/sagemaker-xgboost:1.0-1-cpu-py3',\n",
       "        'Environment': {},\n",
       "        'ModelDataUrl': {'Get': 'Steps.xgboost_train.ModelArtifacts.S3ModelArtifacts'}}}},\n",
       "     {'Name': 'XgboostTransform',\n",
       "      'Type': 'Transform',\n",
       "      'Arguments': {'ModelName': {'Get': 'Steps.XgboostCreateModel.ModelName'},\n",
       "       'TransformInput': {'DataSource': {'S3DataSource': {'S3DataType': 'S3Prefix',\n",
       "          'S3Uri': {'Get': 'Parameters.TestData'}}}},\n",
       "       'TransformOutput': {'S3OutputPath': 's3://sagemaker-us-west-1-323732946862/XgboostTransform'},\n",
       "       'TransformResources': {'InstanceCount': 1,\n",
       "        'InstanceType': 'ml.m5.large'}}}],\n",
       "    'ElseSteps': []}}]}"
      ]
     },
     "execution_count": 18,
     "metadata": {},
     "output_type": "execute_result"
    }
   ],
   "source": [
    "import json\n",
    "\n",
    "json.loads(pipeline.definition())"
   ]
  },
  {
   "cell_type": "code",
   "execution_count": 19,
   "id": "458b2406",
   "metadata": {},
   "outputs": [
    {
     "name": "stderr",
     "output_type": "stream",
     "text": [
      "WARNING:sagemaker.workflow.utilities:Popping out 'ProcessingJobName' from the pipeline definition by default since it will be overridden at pipeline execution time. Please utilize the PipelineDefinitionConfig to persist this field in the pipeline definition if desired.\n",
      "WARNING:sagemaker.workflow.utilities:Popping out 'TrainingJobName' from the pipeline definition by default since it will be overridden at pipeline execution time. Please utilize the PipelineDefinitionConfig to persist this field in the pipeline definition if desired.\n",
      "WARNING:sagemaker.workflow.utilities:Popping out 'ProcessingJobName' from the pipeline definition by default since it will be overridden at pipeline execution time. Please utilize the PipelineDefinitionConfig to persist this field in the pipeline definition if desired.\n",
      "WARNING:sagemaker.estimator:No finished training job found associated with this estimator. Please make sure this estimator is only used for building workflow config\n",
      "WARNING:sagemaker.workflow._utils:Popping out 'CertifyForMarketplace' from the pipeline definition since it will be overridden in pipeline execution time.\n",
      "WARNING:sagemaker.workflow.utilities:Popping out 'ModelPackageName' from the pipeline definition by default since it will be overridden at pipeline execution time. Please utilize the PipelineDefinitionConfig to persist this field in the pipeline definition if desired.\n",
      "WARNING:sagemaker.workflow.utilities:Popping out 'ModelName' from the pipeline definition by default since it will be overridden at pipeline execution time. Please utilize the PipelineDefinitionConfig to persist this field in the pipeline definition if desired.\n",
      "WARNING:sagemaker.workflow.utilities:Popping out 'TransformJobName' from the pipeline definition by default since it will be overridden at pipeline execution time. Please utilize the PipelineDefinitionConfig to persist this field in the pipeline definition if desired.\n",
      "WARNING:sagemaker.workflow.utilities:Popping out 'ProcessingJobName' from the pipeline definition by default since it will be overridden at pipeline execution time. Please utilize the PipelineDefinitionConfig to persist this field in the pipeline definition if desired.\n",
      "WARNING:sagemaker.workflow.utilities:Popping out 'TrainingJobName' from the pipeline definition by default since it will be overridden at pipeline execution time. Please utilize the PipelineDefinitionConfig to persist this field in the pipeline definition if desired.\n",
      "WARNING:sagemaker.workflow.utilities:Popping out 'ProcessingJobName' from the pipeline definition by default since it will be overridden at pipeline execution time. Please utilize the PipelineDefinitionConfig to persist this field in the pipeline definition if desired.\n",
      "WARNING:sagemaker.estimator:No finished training job found associated with this estimator. Please make sure this estimator is only used for building workflow config\n",
      "WARNING:sagemaker.workflow._utils:Popping out 'CertifyForMarketplace' from the pipeline definition since it will be overridden in pipeline execution time.\n",
      "WARNING:sagemaker.workflow.utilities:Popping out 'ModelPackageName' from the pipeline definition by default since it will be overridden at pipeline execution time. Please utilize the PipelineDefinitionConfig to persist this field in the pipeline definition if desired.\n",
      "WARNING:sagemaker.workflow.utilities:Popping out 'ModelName' from the pipeline definition by default since it will be overridden at pipeline execution time. Please utilize the PipelineDefinitionConfig to persist this field in the pipeline definition if desired.\n",
      "WARNING:sagemaker.workflow.utilities:Popping out 'TransformJobName' from the pipeline definition by default since it will be overridden at pipeline execution time. Please utilize the PipelineDefinitionConfig to persist this field in the pipeline definition if desired.\n"
     ]
    },
    {
     "data": {
      "text/plain": [
       "{'PipelineArn': 'arn:aws:sagemaker:us-west-1:323732946862:pipeline/XgboostPipeline',\n",
       " 'ResponseMetadata': {'RequestId': 'a5234e27-526f-4857-8967-8f01dfc11c93',\n",
       "  'HTTPStatusCode': 200,\n",
       "  'HTTPHeaders': {'x-amzn-requestid': 'a5234e27-526f-4857-8967-8f01dfc11c93',\n",
       "   'content-type': 'application/x-amz-json-1.1',\n",
       "   'content-length': '83',\n",
       "   'date': 'Sun, 20 Oct 2024 01:04:50 GMT'},\n",
       "  'RetryAttempts': 0}}"
      ]
     },
     "execution_count": 19,
     "metadata": {},
     "output_type": "execute_result"
    }
   ],
   "source": [
    "pipeline.upsert(role_arn=role)"
   ]
  },
  {
   "cell_type": "code",
   "execution_count": 20,
   "id": "201c8cb4",
   "metadata": {},
   "outputs": [],
   "source": [
    "execution = pipeline.start()"
   ]
  },
  {
   "cell_type": "code",
   "execution_count": 21,
   "id": "e8def896",
   "metadata": {},
   "outputs": [
    {
     "data": {
      "text/plain": [
       "{'PipelineArn': 'arn:aws:sagemaker:us-west-1:323732946862:pipeline/XgboostPipeline',\n",
       " 'PipelineExecutionArn': 'arn:aws:sagemaker:us-west-1:323732946862:pipeline/XgboostPipeline/execution/ht96q5q90w6x',\n",
       " 'PipelineExecutionDisplayName': 'execution-1729386291352',\n",
       " 'PipelineExecutionStatus': 'Executing',\n",
       " 'CreationTime': datetime.datetime(2024, 10, 20, 1, 4, 51, 269000, tzinfo=tzlocal()),\n",
       " 'LastModifiedTime': datetime.datetime(2024, 10, 20, 1, 4, 51, 269000, tzinfo=tzlocal()),\n",
       " 'CreatedBy': {'IamIdentity': {'Arn': 'arn:aws:sts::323732946862:assumed-role/AmazonSageMaker-ExecutionRole-20241019T191278/SageMaker',\n",
       "   'PrincipalId': 'AROAUWX74X6XGT7RKQ52Z:SageMaker'}},\n",
       " 'LastModifiedBy': {'IamIdentity': {'Arn': 'arn:aws:sts::323732946862:assumed-role/AmazonSageMaker-ExecutionRole-20241019T191278/SageMaker',\n",
       "   'PrincipalId': 'AROAUWX74X6XGT7RKQ52Z:SageMaker'}},\n",
       " 'ResponseMetadata': {'RequestId': 'bad4fb52-f66b-400b-b744-262dcd51546a',\n",
       "  'HTTPStatusCode': 200,\n",
       "  'HTTPHeaders': {'x-amzn-requestid': 'bad4fb52-f66b-400b-b744-262dcd51546a',\n",
       "   'content-type': 'application/x-amz-json-1.1',\n",
       "   'content-length': '727',\n",
       "   'date': 'Sun, 20 Oct 2024 01:04:51 GMT'},\n",
       "  'RetryAttempts': 0}}"
      ]
     },
     "execution_count": 21,
     "metadata": {},
     "output_type": "execute_result"
    }
   ],
   "source": [
    "execution.describe()"
   ]
  },
  {
   "cell_type": "code",
   "execution_count": 22,
   "id": "22828844",
   "metadata": {},
   "outputs": [
    {
     "ename": "WaiterError",
     "evalue": "Waiter PipelineExecutionComplete failed: Waiter encountered a terminal failure state: For expression \"PipelineExecutionStatus\" we matched expected path: \"Failed\"",
     "output_type": "error",
     "traceback": [
      "\u001b[0;31m---------------------------------------------------------------------------\u001b[0m",
      "\u001b[0;31mWaiterError\u001b[0m                               Traceback (most recent call last)",
      "Cell \u001b[0;32mIn[22], line 1\u001b[0m\n\u001b[0;32m----> 1\u001b[0m \u001b[43mexecution\u001b[49m\u001b[38;5;241;43m.\u001b[39;49m\u001b[43mwait\u001b[49m\u001b[43m(\u001b[49m\u001b[43m)\u001b[49m\n",
      "File \u001b[0;32m~/anaconda3/envs/python3/lib/python3.10/site-packages/sagemaker/workflow/pipeline.py:934\u001b[0m, in \u001b[0;36m_PipelineExecution.wait\u001b[0;34m(self, delay, max_attempts)\u001b[0m\n\u001b[1;32m    905\u001b[0m model \u001b[38;5;241m=\u001b[39m botocore\u001b[38;5;241m.\u001b[39mwaiter\u001b[38;5;241m.\u001b[39mWaiterModel(\n\u001b[1;32m    906\u001b[0m     {\n\u001b[1;32m    907\u001b[0m         \u001b[38;5;124m\"\u001b[39m\u001b[38;5;124mversion\u001b[39m\u001b[38;5;124m\"\u001b[39m: \u001b[38;5;241m2\u001b[39m,\n\u001b[0;32m   (...)\u001b[0m\n\u001b[1;32m    929\u001b[0m     }\n\u001b[1;32m    930\u001b[0m )\n\u001b[1;32m    931\u001b[0m waiter \u001b[38;5;241m=\u001b[39m botocore\u001b[38;5;241m.\u001b[39mwaiter\u001b[38;5;241m.\u001b[39mcreate_waiter_with_client(\n\u001b[1;32m    932\u001b[0m     waiter_id, model, \u001b[38;5;28mself\u001b[39m\u001b[38;5;241m.\u001b[39msagemaker_session\u001b[38;5;241m.\u001b[39msagemaker_client\n\u001b[1;32m    933\u001b[0m )\n\u001b[0;32m--> 934\u001b[0m \u001b[43mwaiter\u001b[49m\u001b[38;5;241;43m.\u001b[39;49m\u001b[43mwait\u001b[49m\u001b[43m(\u001b[49m\u001b[43mPipelineExecutionArn\u001b[49m\u001b[38;5;241;43m=\u001b[39;49m\u001b[38;5;28;43mself\u001b[39;49m\u001b[38;5;241;43m.\u001b[39;49m\u001b[43marn\u001b[49m\u001b[43m)\u001b[49m\n",
      "File \u001b[0;32m~/anaconda3/envs/python3/lib/python3.10/site-packages/botocore/waiter.py:55\u001b[0m, in \u001b[0;36mcreate_waiter_with_client.<locals>.wait\u001b[0;34m(self, **kwargs)\u001b[0m\n\u001b[1;32m     54\u001b[0m \u001b[38;5;28;01mdef\u001b[39;00m \u001b[38;5;21mwait\u001b[39m(\u001b[38;5;28mself\u001b[39m, \u001b[38;5;241m*\u001b[39m\u001b[38;5;241m*\u001b[39mkwargs):\n\u001b[0;32m---> 55\u001b[0m     \u001b[43mWaiter\u001b[49m\u001b[38;5;241;43m.\u001b[39;49m\u001b[43mwait\u001b[49m\u001b[43m(\u001b[49m\u001b[38;5;28;43mself\u001b[39;49m\u001b[43m,\u001b[49m\u001b[43m \u001b[49m\u001b[38;5;241;43m*\u001b[39;49m\u001b[38;5;241;43m*\u001b[39;49m\u001b[43mkwargs\u001b[49m\u001b[43m)\u001b[49m\n",
      "File \u001b[0;32m~/anaconda3/envs/python3/lib/python3.10/site-packages/botocore/waiter.py:374\u001b[0m, in \u001b[0;36mWaiter.wait\u001b[0;34m(self, **kwargs)\u001b[0m\n\u001b[1;32m    372\u001b[0m \u001b[38;5;28;01mif\u001b[39;00m current_state \u001b[38;5;241m==\u001b[39m \u001b[38;5;124m'\u001b[39m\u001b[38;5;124mfailure\u001b[39m\u001b[38;5;124m'\u001b[39m:\n\u001b[1;32m    373\u001b[0m     reason \u001b[38;5;241m=\u001b[39m \u001b[38;5;124mf\u001b[39m\u001b[38;5;124m'\u001b[39m\u001b[38;5;124mWaiter encountered a terminal failure state: \u001b[39m\u001b[38;5;132;01m{\u001b[39;00macceptor\u001b[38;5;241m.\u001b[39mexplanation\u001b[38;5;132;01m}\u001b[39;00m\u001b[38;5;124m'\u001b[39m\n\u001b[0;32m--> 374\u001b[0m     \u001b[38;5;28;01mraise\u001b[39;00m WaiterError(\n\u001b[1;32m    375\u001b[0m         name\u001b[38;5;241m=\u001b[39m\u001b[38;5;28mself\u001b[39m\u001b[38;5;241m.\u001b[39mname,\n\u001b[1;32m    376\u001b[0m         reason\u001b[38;5;241m=\u001b[39mreason,\n\u001b[1;32m    377\u001b[0m         last_response\u001b[38;5;241m=\u001b[39mresponse,\n\u001b[1;32m    378\u001b[0m     )\n\u001b[1;32m    379\u001b[0m \u001b[38;5;28;01mif\u001b[39;00m num_attempts \u001b[38;5;241m>\u001b[39m\u001b[38;5;241m=\u001b[39m max_attempts:\n\u001b[1;32m    380\u001b[0m     \u001b[38;5;28;01mif\u001b[39;00m last_matched_acceptor \u001b[38;5;129;01mis\u001b[39;00m \u001b[38;5;28;01mNone\u001b[39;00m:\n",
      "\u001b[0;31mWaiterError\u001b[0m: Waiter PipelineExecutionComplete failed: Waiter encountered a terminal failure state: For expression \"PipelineExecutionStatus\" we matched expected path: \"Failed\""
     ]
    }
   ],
   "source": [
    "execution.wait()\n",
    "\n",
    "## NOTE: my service quota is limited so the \"Transformer\" step fails and the model is not deployed for batch inference. \n",
    "## Please check the error statement below in the listing of the execution step."
   ]
  },
  {
   "cell_type": "code",
   "execution_count": null,
   "id": "31555305",
   "metadata": {},
   "outputs": [],
   "source": [
    "evaluation_json = sagemaker.s3.S3Downloader.read_file(\"{}/evaluation.json\".format(\n",
    "    step_eval.arguments[\"ProcessingOutputConfig\"][\"Outputs\"][0][\"S3Output\"][\"S3Uri\"]\n",
    "))\n",
    "json.loads(evaluation_json)"
   ]
  },
  {
   "cell_type": "code",
   "execution_count": 23,
   "id": "7b435c4b",
   "metadata": {},
   "outputs": [
    {
     "data": {
      "text/plain": [
       "[{'StepName': 'XgboostTransform',\n",
       "  'StartTime': datetime.datetime(2024, 10, 20, 1, 17, 31, 766000, tzinfo=tzlocal()),\n",
       "  'EndTime': datetime.datetime(2024, 10, 20, 1, 17, 33, 122000, tzinfo=tzlocal()),\n",
       "  'StepStatus': 'Failed',\n",
       "  'FailureReason': \"ClientError: Failed to invoke sagemaker:CreateTransformJob. Error Details: The account-level service limit 'ml.m5.large for transform job usage' is 0 Instances, with current utilization of 0 Instances and a request delta of 1 Instances. Please use AWS Service Quotas to request an increase for this quota. If AWS Service Quotas is not available, contact AWS support to request an increase for this quota.\\nRetry not appropriate on execution of step with PipelineExecutionArn arn:aws:sagemaker:us-west-1:323732946862:pipeline/xgboostpipeline/execution/ht96q5q90w6x and StepId XgboostTransform. No retry policy configured for the exception type SAGEMAKER_RESOURCE_LIMIT.\",\n",
       "  'Metadata': {},\n",
       "  'AttemptCount': 1},\n",
       " {'StepName': 'XgboostRegisterModel-RegisterModel',\n",
       "  'StartTime': datetime.datetime(2024, 10, 20, 1, 17, 29, 512000, tzinfo=tzlocal()),\n",
       "  'EndTime': datetime.datetime(2024, 10, 20, 1, 17, 31, 332000, tzinfo=tzlocal()),\n",
       "  'StepStatus': 'Succeeded',\n",
       "  'Metadata': {'RegisterModel': {'Arn': 'arn:aws:sagemaker:us-west-1:323732946862:model-package/SallaJobTestXgboostModel/3'}},\n",
       "  'AttemptCount': 1},\n",
       " {'StepName': 'XgboostCreateModel',\n",
       "  'StartTime': datetime.datetime(2024, 10, 20, 1, 17, 29, 512000, tzinfo=tzlocal()),\n",
       "  'EndTime': datetime.datetime(2024, 10, 20, 1, 17, 31, 503000, tzinfo=tzlocal()),\n",
       "  'StepStatus': 'Succeeded',\n",
       "  'Metadata': {'Model': {'Arn': 'arn:aws:sagemaker:us-west-1:323732946862:model/pipelines-ht96q5q90w6x-XgboostCreateModel-uypcFJSRCe'}},\n",
       "  'AttemptCount': 1},\n",
       " {'StepName': 'XgboostModelDeploymetnCondition',\n",
       "  'StartTime': datetime.datetime(2024, 10, 20, 1, 17, 29, 47000, tzinfo=tzlocal()),\n",
       "  'EndTime': datetime.datetime(2024, 10, 20, 1, 17, 29, 205000, tzinfo=tzlocal()),\n",
       "  'StepStatus': 'Succeeded',\n",
       "  'Metadata': {'Condition': {'Outcome': 'True'}},\n",
       "  'AttemptCount': 1},\n",
       " {'StepName': 'xgboost_eval_step',\n",
       "  'StartTime': datetime.datetime(2024, 10, 20, 1, 12, 24, 393000, tzinfo=tzlocal()),\n",
       "  'EndTime': datetime.datetime(2024, 10, 20, 1, 17, 28, 539000, tzinfo=tzlocal()),\n",
       "  'StepStatus': 'Succeeded',\n",
       "  'Metadata': {'ProcessingJob': {'Arn': 'arn:aws:sagemaker:us-west-1:323732946862:processing-job/pipelines-ht96q5q90w6x-xgboost-eval-step-8cIrnfS0LU'}},\n",
       "  'AttemptCount': 1},\n",
       " {'StepName': 'xgboost_train',\n",
       "  'StartTime': datetime.datetime(2024, 10, 20, 1, 9, 56, 141000, tzinfo=tzlocal()),\n",
       "  'EndTime': datetime.datetime(2024, 10, 20, 1, 12, 23, 647000, tzinfo=tzlocal()),\n",
       "  'StepStatus': 'Succeeded',\n",
       "  'Metadata': {'TrainingJob': {'Arn': 'arn:aws:sagemaker:us-west-1:323732946862:training-job/pipelines-ht96q5q90w6x-xgboost-train-8zSyehfHyI'}},\n",
       "  'AttemptCount': 1},\n",
       " {'StepName': 'process-financial-fraud-data',\n",
       "  'StartTime': datetime.datetime(2024, 10, 20, 1, 4, 52, 58000, tzinfo=tzlocal()),\n",
       "  'EndTime': datetime.datetime(2024, 10, 20, 1, 9, 55, 592000, tzinfo=tzlocal()),\n",
       "  'StepStatus': 'Succeeded',\n",
       "  'Metadata': {'ProcessingJob': {'Arn': 'arn:aws:sagemaker:us-west-1:323732946862:processing-job/pipelines-ht96q5q90w6x-process-financial-fr-6Dlbg5AH4t'}},\n",
       "  'AttemptCount': 1}]"
      ]
     },
     "execution_count": 23,
     "metadata": {},
     "output_type": "execute_result"
    }
   ],
   "source": [
    "execution.list_steps()"
   ]
  },
  {
   "cell_type": "markdown",
   "id": "2e16527b",
   "metadata": {},
   "source": [
    "### Model inference on endpoint\n",
    "\n",
    "As can be seen in the cell above, the model was succesfully registered. I then moved to Sagemaker studio to approve the deployment of the model manually. The deployed can now be checked for inference."
   ]
  },
  {
   "cell_type": "code",
   "execution_count": 38,
   "id": "78b9bd3c",
   "metadata": {},
   "outputs": [],
   "source": [
    "single_test_datapoint = \"-4.81583414e-02, -1.02952475e-01,  1.50507724e+00, -1.02643563e-01,4.28030290e-01,  9.78738567e-01,  5.69525291e-01, -8.93545196e-02,1.05594161e+00,  5.00859415e-01,  3.57255991e-01, -8.55397120e-02,1.25618053e+00,  2.04618270e+00, -9.84367965e-01, -1.33800249e-01,1.02578001e+00,  1.04825074e-01,  1.60931623e-01, -1.42984202e-01,-1.42745571e-01,  2.34665992e-01, -1.51245953e-01, -5.77620800e-01,-4.68273695e-01, -6.13373917e-01,  1.19734034e-01,  3.17617507e-01,1.58102700e+04\""
   ]
  },
  {
   "cell_type": "code",
   "execution_count": 39,
   "id": "ef172bd8",
   "metadata": {},
   "outputs": [
    {
     "data": {
      "text/plain": [
       "'-4.81583414e-02, -1.02952475e-01,  1.50507724e+00, -1.02643563e-01,4.28030290e-01,  9.78738567e-01,  5.69525291e-01, -8.93545196e-02,1.05594161e+00,  5.00859415e-01,  3.57255991e-01, -8.55397120e-02,1.25618053e+00,  2.04618270e+00, -9.84367965e-01, -1.33800249e-01,1.02578001e+00,  1.04825074e-01,  1.60931623e-01, -1.42984202e-01,-1.42745571e-01,  2.34665992e-01, -1.51245953e-01, -5.77620800e-01,-4.68273695e-01, -6.13373917e-01,  1.19734034e-01,  3.17617507e-01,1.58102700e+04'"
      ]
     },
     "execution_count": 39,
     "metadata": {},
     "output_type": "execute_result"
    }
   ],
   "source": [
    "single_test_datapoint"
   ]
  },
  {
   "cell_type": "code",
   "execution_count": 40,
   "id": "36ae87c5",
   "metadata": {},
   "outputs": [
    {
     "name": "stdout",
     "output_type": "stream",
     "text": [
      "prediction from the deployed model: 0.2861855626106262\n"
     ]
    }
   ],
   "source": [
    "import boto3\n",
    "client = boto3.client('sagemaker-runtime')\n",
    "response = client.invoke_endpoint(\n",
    "    EndpointName=\"SallaJobTestXgboostModel-1729387379776-Endpoint-20241020-012303\",\n",
    "    Body= single_test_datapoint,\n",
    "    ContentType = 'text/csv')\n",
    "\n",
    "print(\"prediction from the deployed model: \" + str(json.loads(response['Body'].read())))"
   ]
  },
  {
   "cell_type": "markdown",
   "id": "02e683c9",
   "metadata": {},
   "source": [
    "#### triggering new model training upon data versioning"
   ]
  },
  {
   "cell_type": "code",
   "execution_count": 43,
   "id": "add6989f",
   "metadata": {},
   "outputs": [
    {
     "name": "stdout",
     "output_type": "stream",
     "text": [
      "s3://sagemaker-us-west-1-323732946862/dataset/train//financial_fraud_training_second_version.csv\n"
     ]
    }
   ],
   "source": [
    "## upload new data to S3\n",
    "local_path = \"./financial_fraud_training_second_version.csv\"\n",
    "\n",
    "\n",
    "base_uri = f\"s3://{default_bucket}/dataset/train\"\n",
    "input_data_uri = sagemaker.s3.S3Uploader.upload(\n",
    "    local_path=local_path, \n",
    "    desired_s3_uri=base_uri,\n",
    ")\n",
    "print(input_data_uri)"
   ]
  },
  {
   "cell_type": "code",
   "execution_count": 46,
   "id": "be53dce2",
   "metadata": {},
   "outputs": [],
   "source": [
    "## trigger the pipeline and change the value of InputData parameter\n",
    "execution = pipeline.start(\n",
    "    parameters=dict(\n",
    "        InputData=input_data_uri,\n",
    "    )\n",
    ")"
   ]
  },
  {
   "cell_type": "code",
   "execution_count": 47,
   "id": "6fb46aeb",
   "metadata": {},
   "outputs": [
    {
     "data": {
      "text/plain": [
       "{'PipelineArn': 'arn:aws:sagemaker:us-west-1:323732946862:pipeline/XgboostPipeline',\n",
       " 'PipelineExecutionArn': 'arn:aws:sagemaker:us-west-1:323732946862:pipeline/XgboostPipeline/execution/rpa2caoz3zsu',\n",
       " 'PipelineExecutionDisplayName': 'execution-1729390583548',\n",
       " 'PipelineExecutionStatus': 'Executing',\n",
       " 'PipelineExperimentConfig': {'ExperimentName': 'xgboostpipeline',\n",
       "  'TrialName': 'rpa2caoz3zsu'},\n",
       " 'CreationTime': datetime.datetime(2024, 10, 20, 2, 16, 23, 494000, tzinfo=tzlocal()),\n",
       " 'LastModifiedTime': datetime.datetime(2024, 10, 20, 2, 16, 23, 494000, tzinfo=tzlocal()),\n",
       " 'CreatedBy': {'IamIdentity': {'Arn': 'arn:aws:sts::323732946862:assumed-role/AmazonSageMaker-ExecutionRole-20241019T191278/SageMaker',\n",
       "   'PrincipalId': 'AROAUWX74X6XGT7RKQ52Z:SageMaker'}},\n",
       " 'LastModifiedBy': {'IamIdentity': {'Arn': 'arn:aws:sts::323732946862:assumed-role/AmazonSageMaker-ExecutionRole-20241019T191278/SageMaker',\n",
       "   'PrincipalId': 'AROAUWX74X6XGT7RKQ52Z:SageMaker'}},\n",
       " 'ResponseMetadata': {'RequestId': '0ee8e757-eb37-44fa-a8c7-f4a6a5b46eac',\n",
       "  'HTTPStatusCode': 200,\n",
       "  'HTTPHeaders': {'x-amzn-requestid': '0ee8e757-eb37-44fa-a8c7-f4a6a5b46eac',\n",
       "   'content-type': 'application/x-amz-json-1.1',\n",
       "   'content-length': '818',\n",
       "   'date': 'Sun, 20 Oct 2024 02:16:52 GMT'},\n",
       "  'RetryAttempts': 0}}"
      ]
     },
     "execution_count": 47,
     "metadata": {},
     "output_type": "execute_result"
    }
   ],
   "source": [
    "execution.describe()"
   ]
  },
  {
   "cell_type": "code",
   "execution_count": null,
   "id": "26fcae8f",
   "metadata": {},
   "outputs": [],
   "source": [
    "execution.wait()"
   ]
  },
  {
   "cell_type": "code",
   "execution_count": null,
   "id": "b0ce3010",
   "metadata": {},
   "outputs": [],
   "source": []
  }
 ],
 "metadata": {
  "kernelspec": {
   "display_name": "conda_python3",
   "language": "python",
   "name": "conda_python3"
  },
  "language_info": {
   "codemirror_mode": {
    "name": "ipython",
    "version": 3
   },
   "file_extension": ".py",
   "mimetype": "text/x-python",
   "name": "python",
   "nbconvert_exporter": "python",
   "pygments_lexer": "ipython3",
   "version": "3.10.14"
  }
 },
 "nbformat": 4,
 "nbformat_minor": 5
}
